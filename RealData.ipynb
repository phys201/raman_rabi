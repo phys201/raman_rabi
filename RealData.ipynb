{
 "cells": [
  {
   "cell_type": "code",
   "execution_count": 1,
   "metadata": {},
   "outputs": [],
   "source": [
    "%matplotlib inline\n",
    "from matplotlib import pyplot as plt\n",
    "import numpy as np\n",
    "import pandas as pd\n",
    "import seaborn as sns\n",
    "sns.set()\n",
    "\n",
    "from raman_rabi import RRDataContainer\n",
    "from raman_rabi import rr_model\n",
    "from raman_rabi import rr_io"
   ]
  },
  {
   "cell_type": "code",
   "execution_count": 2,
   "metadata": {},
   "outputs": [],
   "source": [
    "#import mN=+1 data\n",
    "testfilepath = rr_io.get_example_data_file_path(\"21.07.56_Pulse Experiment_E1 Raman Pol p0 Rabi Rep Readout - -800 MHz, ND0.7 Vel1, Presel 6 (APD2, Win 3)_ID10708_image.txt\")\n",
    "mN1_data = RRDataContainer(testfilepath)"
   ]
  },
  {
   "cell_type": "code",
   "execution_count": 3,
   "metadata": {},
   "outputs": [
    {
     "name": "stdout",
     "output_type": "stream",
     "text": [
      ">>> MAP value of B_G is 6.226226226226226 A.U.\n",
      ">>> MAP value of A_p is 16.87187187187187 A.U.\n",
      ">>> MAP value of Gamma_p is 0.015207613445576142  us^-1\n",
      ">>> MAP value of A_h is 5.095095095095095 A.U.\n",
      ">>> MAP value of Omega_h is -0.35485485485485485  us^-1\n",
      ">>> MAP value of Gamma_deph is 0.12112112112112113  us^-1\n"
     ]
    }
   ],
   "source": [
    "## First we will get averaged data estimation for our unbinned initial guess.\n",
    "## To get these, we will use the MAP value of each parameter, assuming the other parameters\n",
    "## are as estimated in the paper.\n",
    "time_min = 0\n",
    "time_max = 40\n",
    "BG = 6.1\n",
    "Ap =16.6881\n",
    "Gammap = 1/63.8806\n",
    "Ah = 5.01886\n",
    "Omegah = -np.pi/8.77273\n",
    "Gammadeph = 1/8.5871\n",
    "\n",
    "#s_likelihood, prediction = rr_model.likelihood_mN1(mN1_data, time_min, time_max, BG, \n",
    "                                                   #Ap, Gammap, Ah, Omegah, Gammadeph)\n",
    "\n",
    "npoints = 1000\n",
    "BG_range = np.linspace(0,10,npoints)\n",
    "Ap_range = np.linspace(5,25,npoints)\n",
    "Gammap_range = np.linspace(-Gammap/2,2*Gammap,npoints)\n",
    "Ah_range = np.linspace(0,10,npoints)\n",
    "Omegah_range = np.linspace(-1/2.,1/2.,npoints)\n",
    "Gammadeph_range = np.linspace(0,1,npoints)\n",
    "\n",
    "likelihoods_bg = []\n",
    "likelihoods_ap = []\n",
    "likelihoods_gp = []\n",
    "likelihoods_ah = []\n",
    "likelihoods_omegah = []\n",
    "likelihoods_gammadeph = []\n",
    "\n",
    "theta = np.array([BG, Ap, Gammap, Ah, Omegah, Gammadeph])\n",
    "trials = 20\n",
    "#priors = np.array([['flat'], ['uniform',10,18], ['flat'], ['flat'], ['flat'], ['flat']])\n",
    "\n",
    "# a set of test parameter values\n",
    "theta_withskew = np.concatenate( (theta, np.ones(trials)), axis=0)\n",
    "\n",
    "#mus_bg = []\n",
    "#mus_gp = []\n",
    "for i in range(npoints):\n",
    "    bgLikelihood, mu1 = rr_model.likelihood_mN1(mN1_data, time_min, time_max, BG_range[i], Ap, Gammap, Ah, Omegah, Gammadeph)\n",
    "    likelihoods_bg.append(bgLikelihood)\n",
    "    apLikelihood, mu1 = rr_model.likelihood_mN1(mN1_data, time_min, time_max, BG, Ap_range[i], Gammap, Ah, Omegah, Gammadeph)\n",
    "    likelihoods_ap.append(apLikelihood)\n",
    "    gpLikelihood, mu2 = rr_model.likelihood_mN1(mN1_data, time_min, time_max, BG, Ap, Gammap_range[i], Ah, Omegah, Gammadeph)\n",
    "    likelihoods_gp.append(gpLikelihood)\n",
    "    ahLikelihood, mu2 = rr_model.likelihood_mN1(mN1_data, time_min, time_max, BG, Ap, Gammap, Ah_range[i], Omegah, Gammadeph)\n",
    "    likelihoods_ah.append(ahLikelihood)\n",
    "    omegahLikelihood, mu2 = rr_model.likelihood_mN1(mN1_data, time_min, time_max, BG, Ap, Gammap, Ah, Omegah_range[i], Gammadeph)\n",
    "    likelihoods_omegah.append(omegahLikelihood)\n",
    "    gammadephLikelihood, mu2 = rr_model.likelihood_mN1(mN1_data, time_min, time_max, BG, Ap, Gammap, Ah, Omegah, Gammadeph_range[i])\n",
    "    likelihoods_gammadeph.append(gammadephLikelihood)\n",
    "    \n",
    "BG_MAP = BG_range[np.argmax(likelihoods_bg)]\n",
    "Ap_MAP = Ap_range[np.argmax(likelihoods_ap)]\n",
    "Gammap_MAP = Gammap_range[np.argmax(likelihoods_gp)]\n",
    "Ah_MAP = Ah_range[np.argmax(likelihoods_ah)]\n",
    "Omegah_MAP = Omegah_range[np.argmax(likelihoods_omegah)]\n",
    "Gammadeph_MAP = Gammadeph_range[np.argmax(likelihoods_gammadeph)]\n",
    "    \n",
    "print('>>> MAP value of B_G is', BG_MAP, 'A.U.')\n",
    "print('>>> MAP value of A_p is', Ap_MAP, 'A.U.')\n",
    "print('>>> MAP value of Gamma_p is', Gammap_MAP, ' us^-1')\n",
    "print('>>> MAP value of A_h is', Ah_MAP, 'A.U.')\n",
    "print('>>> MAP value of Omega_h is', Omegah_MAP, ' us^-1')\n",
    "print('>>> MAP value of Gamma_deph is', Gammadeph_MAP, ' us^-1')"
   ]
  },
  {
   "cell_type": "code",
   "execution_count": 4,
   "metadata": {},
   "outputs": [
    {
     "name": "stdout",
     "output_type": "stream",
     "text": [
      "Log likelihood with laser skew: -8036.3623219450965\n"
     ]
    },
    {
     "ename": "NameError",
     "evalue": "name 'theta_test' is not defined",
     "output_type": "error",
     "traceback": [
      "\u001b[0;31m---------------------------------------------------------------------------\u001b[0m",
      "\u001b[0;31mNameError\u001b[0m                                 Traceback (most recent call last)",
      "\u001b[0;32m<ipython-input-4-71bc5ae1f15c>\u001b[0m in \u001b[0;36m<module>\u001b[0;34m()\u001b[0m\n\u001b[1;32m     19\u001b[0m \u001b[0mnumsteps\u001b[0m \u001b[0;34m=\u001b[0m \u001b[0;36m500\u001b[0m \u001b[0;31m#this isn't too many steps, but just to keep this tutorial short to run\u001b[0m\u001b[0;34m\u001b[0m\u001b[0m\n\u001b[1;32m     20\u001b[0m \u001b[0mtest_theta\u001b[0m \u001b[0;34m=\u001b[0m \u001b[0mguesses_withskew\u001b[0m\u001b[0;34m\u001b[0m\u001b[0m\n\u001b[0;32m---> 21\u001b[0;31m \u001b[0mtheta_test\u001b[0m\u001b[0;34m[\u001b[0m\u001b[0;36m2\u001b[0m\u001b[0;34m]\u001b[0m\u001b[0;34m=\u001b[0m\u001b[0;36m0.1\u001b[0m\u001b[0;34m\u001b[0m\u001b[0m\n\u001b[0m\u001b[1;32m     22\u001b[0m \u001b[0mtheta_test\u001b[0m\u001b[0;34m[\u001b[0m\u001b[0;36m5\u001b[0m\u001b[0;34m]\u001b[0m\u001b[0;34m=\u001b[0m\u001b[0;36m0.1\u001b[0m\u001b[0;34m\u001b[0m\u001b[0m\n\u001b[1;32m     23\u001b[0m test_samples_withskew = rr_model.laserskew_Walkers(test_data, test_theta, 0, 40, False, dataN=10, \n",
      "\u001b[0;31mNameError\u001b[0m: name 'theta_test' is not defined"
     ]
    }
   ],
   "source": [
    "# a set of test parameter values\n",
    "theta = np.array([6.10, 16.6881, 1/63.8806, 5.01886, -np.pi/8.77273, 1/8.5871])\n",
    "trials = 100\n",
    "\n",
    "# generate a large data set using theta: 500 runs with 161 time steps each\n",
    "test_data = rr_model.generate_test_data(theta, \n",
    "                                        161, # number of time steps \n",
    "                                        trials, # number of trials\n",
    "                                        0, 40) # first and last time point of each trial\n",
    "\n",
    "# a set of test parameter values\n",
    "theta_withskew = np.concatenate( (np.array([6.10, 16.6881, 1/63.8806, 5.01886, -np.pi/8.77273, 1/8.5871]), np.ones(trials)), axis=0)\n",
    "withskew_loglikelihood = rr_model.laserskew_unbinned_loglikelihood_mN1(theta_withskew, test_data, 0, 40, False)\n",
    "print(\"Log likelihood with laser skew:\", withskew_loglikelihood)\n",
    "\n",
    "guesses_withskew = theta_withskew\n",
    "numdim = len(guesses_withskew)\n",
    "numwalkers = 300 #this isn't too many walkers, but just to keep this tutorial short to run\n",
    "numsteps = 500 #this isn't too many steps, but just to keep this tutorial short to run\n",
    "test_theta = guesses_withskew\n",
    "theta_test[2]=0.1\n",
    "theta_test[5]=0.1\n",
    "test_samples_withskew = rr_model.laserskew_Walkers(test_data, test_theta, 0, 40, False, dataN=10, \n",
    "                                scale_factor=100*100, nwalkers=numwalkers, nsteps=numsteps)\n",
    "\n",
    "burn_in_time = 200\n",
    "samples_withskew = test_samples_withskew.chain[:,burn_in_time:,:]\n",
    "# reshape the samples into a 1D array where the colums are\n",
    "# BG, Ap, Gammap, Ah, Omegah, Gammadeph\n",
    "traces_withskew = samples_withskew.reshape(-1, numdim).T\n",
    "\n",
    "# create a pandas DataFrame with labels\n",
    "parameter_samples_withskew = pd.DataFrame({'BG': traces_withskew[0], 'Ap': traces_withskew[1],\n",
    "                'Gp': traces_withskew[2], 'Ah': traces_withskew[3],\n",
    "                'Oh': traces_withskew[4], 'Gd':traces_withskew[5],\n",
    "                'Skew': traces_withskew[6]})\n",
    "\n",
    "#we find the MAP value of our MCMC analysis\n",
    "MAP = parameter_samples_withskew.quantile([0.50], axis=0)\n",
    "#print('Guesses:')\n",
    "#print(guesses_withskew)\n",
    "print('Calculated MAP values with skew:')\n",
    "print(MAP)"
   ]
  },
  {
   "cell_type": "code",
   "execution_count": 5,
   "metadata": {},
   "outputs": [
    {
     "name": "stdout",
     "output_type": "stream",
     "text": [
      "[ 6.22622623e+00  1.68718719e+01  1.52076134e-02  5.09509510e+00\n",
      " -3.54854855e-01  1.21121121e-01]\n",
      "Log likelihood with laser skew: -9089.072145977492\n",
      "Guesses:\n",
      "[ 6.22622623e+00  1.68718719e+01  1.52076134e-02  5.09509510e+00\n",
      " -3.54854855e-01  1.21121121e-01  1.00000000e+00  1.00000000e+00\n",
      "  1.00000000e+00  1.00000000e+00  1.00000000e+00  1.00000000e+00\n",
      "  1.00000000e+00  1.00000000e+00  1.00000000e+00  1.00000000e+00\n",
      "  1.00000000e+00  1.00000000e+00  1.00000000e+00  1.00000000e+00\n",
      "  1.00000000e+00  1.00000000e+00  1.00000000e+00  1.00000000e+00\n",
      "  1.00000000e+00  1.00000000e+00]\n",
      "Calculated MAP values with skew:\n",
      "           BG         Ap        Gp        Ah        Oh        Gd     Skew1  \\\n",
      "0.5  6.323985  16.931948  0.017581  4.494783 -0.323559  0.121606  1.111998   \n",
      "\n",
      "        Skew2     Skew3     Skew4    Skew5     Skew6     Skew7  \n",
      "0.5  1.167256  0.740617  0.960451  1.35417  1.195168  0.870818  \n"
     ]
    }
   ],
   "source": [
    "# a set of test parameter values\n",
    "theta = np.array([BG_MAP, Ap_MAP, Gammap_MAP, Ah_MAP, Omegah_MAP, Gammadeph_MAP])\n",
    "print(theta)\n",
    "trials = 20\n",
    "#priors = np.array([['flat'], ['uniform',10,18], ['flat'], ['flat'], ['flat'], ['flat']])\n",
    "\n",
    "# a set of test parameter values\n",
    "theta_withskew = np.concatenate( (theta, np.ones(trials)), axis=0)\n",
    "withskew_loglikelihood = rr_model.laserskew_unbinned_loglikelihood_mN1(theta_withskew, mN1_data, 0, 40, True)\n",
    "print(\"Log likelihood with laser skew:\", withskew_loglikelihood)\n",
    "\n",
    "guesses_withskew = theta_withskew\n",
    "numdim = len(guesses_withskew)\n",
    "numwalkers = 500 #this isn't too many walkers, but just to keep this tutorial short to run\n",
    "numsteps = 1000 #this isn't too many steps, but just to keep this tutorial short to run\n",
    "theta_test = theta_withskew\n",
    "#theta_test[2]=0.1\n",
    "#theta_test[5]=0.1\n",
    "#theta_test[1]=theta_test[1]*0.9\n",
    "#test_samples_withskew = rr_model.laserskew_Walkers(mN1_data, guesses_withskew, 0, 40, True, dataN=10, scale_factor=100*100, nwalkers=numwalkers, nsteps=numsteps)\n",
    "test_samples_withskew = rr_model.laserskew_Walkers(mN1_data, theta_test, 0, 40, True, dataN=10, scale_factor=100*100, nwalkers=numwalkers, nsteps=numsteps)\n",
    "\n",
    "\n",
    "burn_in_time = 300\n",
    "samples_withskew = test_samples_withskew.chain[:,burn_in_time:,:]\n",
    "# reshape the samples into a 1D array where the colums are\n",
    "# BG, Ap, Gammap, Ah, Omegah, Gammadeph\n",
    "traces_withskew = samples_withskew.reshape(-1, numdim).T\n",
    "\n",
    "# create a pandas DataFrame with labels\n",
    "parameter_samples_withskew = pd.DataFrame({'BG': traces_withskew[0], 'Ap': traces_withskew[1],\n",
    "                'Gp': traces_withskew[2], 'Ah': traces_withskew[3],\n",
    "                'Oh': traces_withskew[4], 'Gd':traces_withskew[5],\n",
    "                'Skew1': traces_withskew[6],'Skew2': traces_withskew[7],'Skew3': traces_withskew[8],'Skew4': traces_withskew[9],'Skew5': traces_withskew[10],'Skew6': traces_withskew[11],'Skew7': traces_withskew[12],})\n",
    "\n",
    "#we find the MAP value of our MCMC analysis\n",
    "MAP = parameter_samples_withskew.quantile([0.50], axis=0)\n",
    "print('Guesses:')\n",
    "print(guesses_withskew)\n",
    "print('Calculated MAP values with skew:')\n",
    "print(MAP)"
   ]
  },
  {
   "cell_type": "code",
   "execution_count": null,
   "metadata": {},
   "outputs": [],
   "source": [
    "%debug"
   ]
  },
  {
   "cell_type": "code",
   "execution_count": null,
   "metadata": {},
   "outputs": [],
   "source": [
    "import warnings"
   ]
  },
  {
   "cell_type": "code",
   "execution_count": null,
   "metadata": {},
   "outputs": [],
   "source": [
    "warnings.filterwarnings(\"error\")\n"
   ]
  },
  {
   "cell_type": "code",
   "execution_count": 7,
   "metadata": {},
   "outputs": [
    {
     "data": {
      "text/plain": [
       "[<matplotlib.lines.Line2D at 0x7f75d0961ba8>]"
      ]
     },
     "execution_count": 7,
     "metadata": {},
     "output_type": "execute_result"
    },
    {
     "data": {
      "image/png": "[encoded data removed]",
      "text/plain": [
       "<Figure size 432x288 with 1 Axes>"
      ]
     },
     "metadata": {},
     "output_type": "display_data"
    }
   ],
   "source": [
    "traces_withskew.shape\n",
    "#for iii in range(26):\n",
    "#    plt.plot(range(350000), traces_withskew[iii,:])\n",
    "\n",
    "plt.plot(range(350000), traces_withskew[20,:])"
   ]
  },
  {
   "cell_type": "code",
   "execution_count": null,
   "metadata": {},
   "outputs": [],
   "source": [
    "theta_test = theta_withskew\n",
    "theta_test[2]=2\n",
    "theta_test[5]=2\n",
    "rr_model.test(theta_test, mN1_data, 0, 40, True)"
   ]
  },
  {
   "cell_type": "code",
   "execution_count": null,
   "metadata": {},
   "outputs": [],
   "source": [
    "0.5  6.656626  17.165129  0.017208  5.179458 -0.39041  0.120377  0.980412"
   ]
  },
  {
   "cell_type": "code",
   "execution_count": null,
   "metadata": {},
   "outputs": [],
   "source": [
    "0.5  6.21613  16.712656  0.015974  5.154642 -0.323521  0.140596  1.089871"
   ]
  },
  {
   "cell_type": "code",
   "execution_count": null,
   "metadata": {},
   "outputs": [],
   "source": [
    "failure=np.array([6.21709779, 17.02327498 , 0.09721432 , 4.50759161 , 0.62656029 , 0.36023507,\n",
    "  0.67244965 , 0.36324047 , 0.95806626  ,0.49547412 , 0.61321619,  0.37430487,\n",
    "  1.56486318,  0.91031025,  0.24836756,  1.09867159 , 0.36157883 , 0.89449415,\n",
    "  1.01254314 , 1.41038526 , 0.79970742 , 1.40165622 , 0.73386948 , 1.06883737,\n",
    "  0.95209786, -0.11787427])\n",
    "\n",
    "print(failure)\n",
    "rr_model.test(failure, mN1_data, 0, 40, True)"
   ]
  },
  {
   "cell_type": "code",
   "execution_count": null,
   "metadata": {},
   "outputs": [],
   "source": [
    "testval = -np.inf\n",
    "testval == -np.inf"
   ]
  },
  {
   "cell_type": "code",
   "execution_count": null,
   "metadata": {},
   "outputs": [],
   "source": []
  }
 ],
 "metadata": {
  "kernelspec": {
   "display_name": "Python 3",
   "language": "python",
   "name": "python3"
  },
  "language_info": {
   "codemirror_mode": {
    "name": "ipython",
    "version": 3
   },
   "file_extension": ".py",
   "mimetype": "text/x-python",
   "name": "python",
   "nbconvert_exporter": "python",
   "pygments_lexer": "ipython3",
   "version": "3.6.5"
  }
 },
 "nbformat": 4,
 "nbformat_minor": 2
}
