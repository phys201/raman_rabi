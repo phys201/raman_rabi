{
 "cells": [
  {
   "cell_type": "markdown",
   "metadata": {},
   "source": [
    "# `raman_rabi` documentation\n",
    "\n",
    "Here are instructions and examples for using the `raman_rabi` package developed by Taylor Patti, Jamelle Watson-Daniels, and Soumya Ghosh for Prof. Manoharan's PHYS 201: Statistics for Physicists course at Harvard."
   ]
  },
  {
   "cell_type": "markdown",
   "metadata": {},
   "source": [
    "## Signs of life"
   ]
  },
  {
   "cell_type": "markdown",
   "metadata": {},
   "source": [
    "Having installed the package, we first go to the root directory and run the unit tests:"
   ]
  },
  {
   "cell_type": "code",
   "execution_count": 1,
   "metadata": {},
   "outputs": [
    {
     "name": "stdout",
     "output_type": "stream",
     "text": [
      ".....\n",
      "----------------------------------------------------------------------\n",
      "Ran 5 tests in 0.264s\n",
      "\n",
      "OK\n"
     ]
    }
   ],
   "source": [
    "!nosetests"
   ]
  },
  {
   "cell_type": "markdown",
   "metadata": {},
   "source": [
    "Now try importing the package itself and running its test function:"
   ]
  },
  {
   "cell_type": "code",
   "execution_count": 2,
   "metadata": {},
   "outputs": [
    {
     "name": "stdout",
     "output_type": "stream",
     "text": [
      ">>> Hello from raman_rabi!\n"
     ]
    }
   ],
   "source": [
    "import raman_rabi\n",
    "\n",
    "print(raman_rabi.testing.hello())"
   ]
  },
  {
   "cell_type": "markdown",
   "metadata": {},
   "source": [
    "## Week 1 Model\n",
    "\n",
    "We want to know if the functional form of the electronic-nuclear flip-flop transition in the Raman-Rabi NV center protocol [arXiv:1808.04346]. The data we are interested in is the change in $m_N = +1$ and $m_s = 0$ nuclear spin populations as a function of Raman-Rabi pulse length in Fig. 4.\n",
    "\n",
    "It is hypothesized by the paper that this behavior is weakly driven, over-damped Raman-Rabi oscillations. That is, partial coherent transitions between the two nuclear spin populations marred by various sources of state decay and decoherence. The ideal theoretical model proposed for the nuclear spin specific fluorescence for spin $m_N$ is, $I_T^{m_N}(t)$, is described by\n",
    "\n",
    "$$I_T^{m_N}(t) = B_G + A_p e^{-\\Gamma_p t} + A_h \\cos\\left( \\Omega_h t \\right) e^{-\\Gamma_{deph} t},$$\n",
    "\n",
    "where $B_G$ is the background population/fluorescence, $A_p$ is the strength at which parasitic transitions remove states from the cycle (i.e. into $m_s = -1$ or $m_N = -1$ states, $\\Gamma_p$ is the rate at which this parasitic loss occurs, $A_h$ is the strength at which the hyperfine interaction induces this transition, $\\Omega_h$ is the rate at which the hyperfine transition occurs, and $\\Gamma_{deph}$ is the rate of dephasing in this coherent oscillation.\n",
    "\n",
    "This week, we will be focusing on a basic analysis where we will average over all of our data points for each $m_S$ and then consider our full signal model as\n",
    "\n",
    "$$I(t) = I_T^{m_N}(t) + \\eta_{shot}(t)$$\n",
    "\n",
    "where $\\eta_{shot}(t)$ is a random variable describing the measurement shot noise (Poissonian distribution) of mean $\\lambda = \\sqrt{I_T^{m_N}(t)}$ is. This is because the expectation value of shot noise is equal to the square root of the ideal signal, the shot noise is described by a Poissonian distribution, and the expectation value of the Poissonian distribution is its mean. HOWEVER, as the fluoresence data is taken as a continuum (not single photon counting) we will take the limit of large counts of a Poissonian distribution and obtain a Gaussian distribution for the shot noise random variable."
   ]
  },
  {
   "cell_type": "code",
   "execution_count": null,
   "metadata": {
    "collapsed": true
   },
   "outputs": [],
   "source": []
  }
 ],
 "metadata": {
  "kernelspec": {
   "display_name": "Python 3",
   "language": "python",
   "name": "python3"
  },
  "language_info": {
   "codemirror_mode": {
    "name": "ipython",
    "version": 3
   },
   "file_extension": ".py",
   "mimetype": "text/x-python",
   "name": "python",
   "nbconvert_exporter": "python",
   "pygments_lexer": "ipython3",
   "version": "3.6.5"
  }
 },
 "nbformat": 4,
 "nbformat_minor": 2
}
