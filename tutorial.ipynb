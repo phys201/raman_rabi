{
 "cells": [
  {
   "cell_type": "markdown",
   "metadata": {},
   "source": [
    "# Raman Rabi Tutorial"
   ]
  },
  {
   "cell_type": "markdown",
   "metadata": {},
   "source": [
    "# Taylor Patti, Jamelle Watson-Daniels, and Soumya Ghosh"
   ]
  },
  {
   "cell_type": "markdown",
   "metadata": {},
   "source": [
    "This is a tutorial notebook for the `raman_rabi` package. This tutorial uses example data to demonstrate how the package can be used to perform parameter estimation on spin readout data. This package was developed for Prof. Manoharan's PHYS 201: Statistics for Physicists course at Harvard.\n"
   ]
  },
  {
   "cell_type": "markdown",
   "metadata": {},
   "source": [
    "## About the Model\n",
    "\n",
    "We want to know if the functional form of the electronic-nuclear flip-flop transition in the Raman-Rabi NV center protocol is indeed the form of a decaying exponential.  [arXiv:1808.04346]. The data we are interested in is the change in $m_N = +1$ and $m_s = 0$ nuclear spin populations as a function of Raman-Rabi pulse length in Fig. 4.\n",
    "\n",
    "It is hypothesized by the paper that this behavior is weakly driven, over-damped Raman-Rabi oscillations. That is, partial coherent transitions between the two nuclear spin populations marred by various sources of state decay and decoherence. The ideal theoretical model proposed for the nuclear spin specific fluorescence for spin $m_N$ is, $I_T^{m_N}(t)$, is described by\n",
    "\n",
    "$$I_T^{m_N}(t) = B_G + A_p e^{-\\Gamma_p t} + A_h \\cos\\left( \\Omega_h t \\right) e^{-\\Gamma_{deph} t},$$\n",
    "\n",
    "where $B_G$ is the background population/fluorescence, $A_p$ is the strength at which parasitic transitions remove states from the cycle (i.e. into $m_s = -1$ or $m_N = -1$ states, $\\Gamma_p$ is the rate at which this parasitic loss occurs, $A_h$ is the strength at which the hyperfine interaction induces this transition, $\\Omega_h$ is the rate at which the hyperfine transition occurs, and $\\Gamma_{deph}$ is the rate of dephasing in this coherent oscillation. The units of $B_G$, $A_p$, and $A_h$ are arbitrary units of fluoresence (A.U.) and the units of $\\Gamma_p$, $\\Omega_h$, and $\\Gamma_{deph}$ are inverse $\\mu$s.\n",
    "\n",
    "This week, we will be focusing on a basic analysis where we will average over all of our data points for each $m_S$ and then consider our full signal model as\n",
    "\n",
    "$$I(t) = I_T^{m_N}(t) + \\eta_{shot}(t)$$\n",
    "\n",
    "where $\\eta_{shot}(t)$ is a random variable describing the measurement shot noise (Poissonian distribution) of mean $\\lambda = \\sqrt{I_T^{m_N}(t)}$ is. This is because the expectation value of shot noise is equal to the square root of the ideal signal, the shot noise is described by a Poissonian distribution, and the expectation value of the Poissonian distribution is its mean. HOWEVER, as the fluoresence data is taken as a continuum (not single photon counting) we will take the limit of large counts of a Poissonian distribution and obtain a Gaussian distribution for the shot noise random variable."
   ]
  },
  {
   "cell_type": "markdown",
   "metadata": {},
   "source": [
    "# Run Unit tests"
   ]
  },
  {
   "cell_type": "markdown",
   "metadata": {},
   "source": [
    "Now that we know the big picture, let's go to the root directory and run the unit tests:"
   ]
  },
  {
   "cell_type": "code",
   "execution_count": 4,
   "metadata": {},
   "outputs": [],
   "source": [
    "%matplotlib inline\n",
    "from matplotlib import pyplot as plt\n",
    "import raman_rabi\n",
    "import numpy as np\n",
    "from raman_rabi import RRDataContainer\n",
    "from raman_rabi import rr_model"
   ]
  },
  {
   "cell_type": "code",
   "execution_count": 2,
   "metadata": {},
   "outputs": [
    {
     "name": "stderr",
     "output_type": "stream",
     "text": [
      ".....\n",
      "----------------------------------------------------------------------\n",
      "Ran 5 tests in 0.604s\n",
      "\n",
      "OK\n"
     ]
    }
   ],
   "source": [
    "!nosetests"
   ]
  },
  {
   "cell_type": "markdown",
   "metadata": {},
   "source": [
    "Now try importing the package itself to make sure it runs:"
   ]
  },
  {
   "cell_type": "code",
   "execution_count": 3,
   "metadata": {},
   "outputs": [
    {
     "name": "stdout",
     "output_type": "stream",
     "text": [
      ">>> Hello from raman_rabi!\n"
     ]
    }
   ],
   "source": [
    "import raman_rabi\n",
    "\n",
    "print(raman_rabi.testing.hello())"
   ]
  },
  {
   "cell_type": "markdown",
   "metadata": {},
   "source": [
    "# Load data"
   ]
  },
  {
   "cell_type": "markdown",
   "metadata": {},
   "source": [
    "Data can be loaded using raman_rabi object `RRDataContainer` quite easily:"
   ]
  },
  {
   "cell_type": "code",
   "execution_count": 3,
   "metadata": {},
   "outputs": [],
   "source": [
    "testfilepath = \"testdata/21.07.56_Pulse Experiment_E1 Raman Pol p0 Rabi Rep Readout - -800 MHz, ND0.7 Vel1, Presel 6 (APD2, Win 3)_ID10708_image.txt\"\n",
    "s = RRDataContainer(testfilepath)\n",
    "mN1_data = s"
   ]
  },
  {
   "cell_type": "markdown",
   "metadata": {},
   "source": [
    "Now let's initalize parameters based on our knowledge of the test data"
   ]
  },
  {
   "cell_type": "code",
   "execution_count": 6,
   "metadata": {},
   "outputs": [],
   "source": [
    "time_min = 0\n",
    "time_max = 40\n",
    "BG = 6.1\n",
    "Ap =16.6881\n",
    "Gammap = 1/63.8806\n",
    "Ah = 5.01886\n",
    "Omegah = -np.pi/8.77273\n",
    "Gammadeph = 1/8.5871"
   ]
  },
  {
   "cell_type": "markdown",
   "metadata": {},
   "source": [
    "## Bayesian parameter estimation\n",
    "Consider the test data against the model with nominal parameters, determined in the previous work. In order to illustrate the suitability of this functional form for these test data, let's plot the model with nominal parameters against the fluorescence data averaged over all runs. "
   ]
  },
  {
   "cell_type": "code",
   "execution_count": 7,
   "metadata": {},
   "outputs": [
    {
     "data": {
      "image/png": "[encoded data removed]",
      "text/plain": [
       "<Figure size 432x288 with 1 Axes>"
      ]
     },
     "metadata": {},
     "output_type": "display_data"
    }
   ],
   "source": [
    "s_likelihood, prediction = rr_model.likelihood_mN1(mN1_data, time_min, time_max, BG, \n",
    "                                                   Ap, Gammap, Ah, Omegah, Gammadeph)\n",
    "\n",
    "conversion = 1000 # conversion factor between fluorescence and number of nuclei\n",
    "averaged_data = conversion*s.get_df().mean(axis=0)\n",
    "plt.plot(averaged_data,linestyle='None',marker='.')\n",
    "plt.plot(prediction)\n",
    "plt.title('Model with nominal parameters')\n",
    "plt.xlabel('Raman pulse duration')\n",
    "plt.ylabel('Nuclear readout (A.U.)')\n",
    "plt.show()"
   ]
  },
  {
   "cell_type": "markdown",
   "metadata": {},
   "source": [
    "In an effort to understand our likelihood function, let's vary $B_G$ and calculate the likelihood. Then, we do the same for $\\Gamma_p$."
   ]
  },
  {
   "cell_type": "code",
   "execution_count": 8,
   "metadata": {},
   "outputs": [],
   "source": [
    "# Calculate likelihood as a function of the background fluorescence parameter\n",
    "# and the parasitic loss rate parameter\n",
    "npoints = 1000\n",
    "BG_range = np.linspace(0,10,npoints)\n",
    "gammap_range = np.linspace(-Gammap/2,2*Gammap,npoints)\n",
    "\n",
    "likelihoods_bg = []\n",
    "likelihoods_gp = []\n",
    "mus_bg = []\n",
    "mus_gp = []\n",
    "for i in range(npoints):\n",
    "    bgLikelihood, mu1 = rr_model.likelihood_mN1(mN1_data, time_min, time_max, BG_range[i], Ap, Gammap, Ah, Omegah, Gammadeph)\n",
    "    likelihoods_bg.append(bgLikelihood)\n",
    "    gpLikelihood, mu2 = rr_model.likelihood_mN1(mN1_data, time_min, time_max, BG, Ap, gammap_range[i], Ah, Omegah, Gammadeph)\n",
    "    likelihoods_gp.append(gpLikelihood)"
   ]
  },
  {
   "cell_type": "markdown",
   "metadata": {},
   "source": [
    "Now we can look at the plot of the range of background population/fluorescence versus likelihood"
   ]
  },
  {
   "cell_type": "code",
   "execution_count": 9,
   "metadata": {},
   "outputs": [
    {
     "data": {
      "image/png": "[encoded data removed]",
      "text/plain": [
       "<Figure size 432x288 with 1 Axes>"
      ]
     },
     "metadata": {},
     "output_type": "display_data"
    }
   ],
   "source": [
    "plt.plot(BG_range,likelihoods_bg)\n",
    "plt.title(r\"Likelihood Varying Parameter $B_G$\")\n",
    "plt.xlabel(r\"$B_G$\")\n",
    "plt.ylabel(\"Likelihood\")\n",
    "plt.show()"
   ]
  },
  {
   "cell_type": "markdown",
   "metadata": {},
   "source": [
    "Notice, we are peaked right around our nominal value. That gives you some idea of how the nominal values were chosen. Let's look at the plot for $\\Gamma_p$ versus likehood calculation and you will notice the same thing."
   ]
  },
  {
   "cell_type": "code",
   "execution_count": 10,
   "metadata": {},
   "outputs": [
    {
     "data": {
      "image/png": "[encoded data removed]",
      "text/plain": [
       "<Figure size 432x288 with 1 Axes>"
      ]
     },
     "metadata": {},
     "output_type": "display_data"
    }
   ],
   "source": [
    "plt.plot(gammap_range,likelihoods_gp)\n",
    "plt.title(r\"Likelihood Varying Parameter $\\Gamma_p$\")\n",
    "plt.xlabel(r\"$\\Gamma_p$\")\n",
    "plt.ylabel(\"Likelihood\")\n",
    "plt.show()"
   ]
  },
  {
   "cell_type": "markdown",
   "metadata": {},
   "source": [
    "The values of $\\Gamma_p$ and $B_G$ that maximize these likelihood scans correspond to the MAP values of these parameters with uniform priors for all parameters, as the likelihood function is proportional to the posterior."
   ]
  },
  {
   "cell_type": "code",
   "execution_count": 11,
   "metadata": {},
   "outputs": [
    {
     "name": "stdout",
     "output_type": "stream",
     "text": [
      ">>> MAP value of B_G is 6.226226226226226 A.U.\n",
      ">>> MAP value of Gamma_p is 0.015207613445576142  us^-1\n"
     ]
    }
   ],
   "source": [
    "print('>>> MAP value of B_G is', BG_range[np.argmax(likelihoods_bg)], 'A.U.')\n",
    "print('>>> MAP value of Gamma_p is', gammap_range[np.argmax(likelihoods_gp)], ' us^-1')"
   ]
  },
  {
   "cell_type": "markdown",
   "metadata": {},
   "source": [
    "This is a simple example of how you can use the raman_rabi package."
   ]
  },
  {
   "cell_type": "code",
   "execution_count": null,
   "metadata": {},
   "outputs": [],
   "source": []
  }
 ],
 "metadata": {
  "kernelspec": {
   "display_name": "Python 3",
   "language": "python",
   "name": "python3"
  },
  "language_info": {
   "codemirror_mode": {
    "name": "ipython",
    "version": 3
   },
   "file_extension": ".py",
   "mimetype": "text/x-python",
   "name": "python",
   "nbconvert_exporter": "python",
   "pygments_lexer": "ipython3",
   "version": "3.6.5"
  }
 },
 "nbformat": 4,
 "nbformat_minor": 2
}
