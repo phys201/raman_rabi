{
 "cells": [
  {
   "cell_type": "markdown",
   "metadata": {},
   "source": [
    "# Table of Contents"
   ]
  },
  {
   "cell_type": "markdown",
   "metadata": {},
   "source": [
    "* **ZEROTH LECTURES -- Lectures compatible with *Python Tutor* live.**\n",
    "\n",
    "    * part A - variables and operators -- (enUS, Python 3) :: [ &lt;access&gt; ](contents/zeroth-lectures/A-variables-and-operators.ipynb) // [&lt;preview&gt; ](contents/zeroth-lectures/lec-0A-ga.png)\n",
    "\n",
    "    * part B - functions -- (enUS, Python 3) :: [ &lt;access&gt; ](contents/zeroth-lectures/B-functions.ipynb) // [ &lt;preview&gt; ](contents/zeroth-lectures/lec-0B-ga.png)\n",
    "    \n",
    "    * part C - tuples and lists -- (enUS, Python 3) :: [ &lt;access&gt; ](contents/zeroth-lectures/C-tuples-and-lists.ipynb) //  [ &lt;preview&gt;](contents/zeroth-lectures/lec-0C-ga.png)\n",
    "    \n",
    "    * part D - 'for' loops -- (enUS, Python 3) :: [ &lt;access&gt; ](contents/zeroth-lectures/D-for-loops.ipynb) // [ &lt;preview&gt; ](contents/zeroth-lectures/lec-0D-ga.png)\n",
    "    \n",
    "    * part E - 'if' conditionals -- (enUS, Python 3) :: [ &lt;access&gt; ](contents/zeroth-lectures/E-if-conditionals.ipynb) //  [ &lt;preview&gt; ](contents/zeroth-lectures/lec-0E-ga.png)\n",
    "    \n",
    "    * part F - callbacks -- (enUS, Python 3) :: [ &lt;access&gt; ](contents/zeroth-lectures/F-callbacks.ipynb) //  [ &lt;preview&gt; ](contents/zeroth-lectures/lec-0F-ga.png)"
   ]
  },
  {
   "cell_type": "markdown",
   "metadata": {},
   "source": [
    "* **MAIN LECTURES -- Lectures making use of the Scipy stack.**\n",
    "\n",
    "    * AT101-py3 series - lectures on basic topics of Applied Thermodynamics along with detailed comments on the Python3 programming language, SciPy libraries and jupyter notebook tools\n",
    "\n",
    "        * 1 - On jupyter-notebook, python and the 1st law of thermodynamics -- (enUS, Python 3) :: [ &lt;access&gt; ](contents/main-lectures/1-jupyternotebook-python-1stlaw.ipynb) // [ &lt;preview&gt; ](contents/main-lectures/GA-1.png)\n",
    "\n",
    "        * 2 - NumPy, matplotlib and isotherms of the van der Waals Equation of State -- (enUS, Python 3) :: [ &lt;access&gt; ](contents/main-lectures/2-numpy-matplotlib-vdW-EoS-isotherms.ipynb) // [ &lt;preview&gt; ](contents/main-lectures/GA-2.png)\n",
    "\n",
    "        * 3a - Cálculo simples do Volume Molar e Pressão de Saturacao de substância pura a partir de Equação de Estado Cúbica -- (ptBR, Python 3):: [ &lt;access&gt; ](contents/main-lectures/3a-VolumeMolar-PressaoDeSaturacao-EquacaoDeEstadoCubica.ipynb) // [ &lt;preview&gt; ](contents/main-lectures/GA-3a.png)\n",
    "        * 3b - SciPy and calculations of molar volume and saturation pressure of a pure substance using a cubic equation of state -- (enUS, Python 3):: [ &lt;access&gt; ](contents/main-lectures/3b-scipy-MolarVolume-SaturationPressure-CubicEoS.ipynb) // [ &lt;preview&gt; ](contents/main-lectures/GA-3b.png)\n",
    "        * 4 - SymPy and analytical solutions of the van der Waals Wquation of State -- (enUS, Python 3):: [ &lt;access&gt; ](contents/main-lectures/4-sympy-vdWEoS-analytical-solutions.ipynb) // [ &lt;preview&gt; ](contents/main-lectures/GA-4.png)\n",
    "\n",
    "    * HYD series - lectures on natural gas hydrates models and algorithms\n",
    "    \n",
    "        * HYD1 - Methane hydrates -- (enUS, Python 3):: [ &lt;access&gt; ](contents/main-lectures/HYD1-methane-hydrates.ipynb) // [ &lt;preview&gt; ](contents/main-lectures/GA-HYD1.png)\n",
    "\n",
    "    * GE series - lectures on excess thermodynamics properties relations and models\n",
    "    \n",
    "        * GE1 - NRTL, graphically -- (enUS, Python 3):: [ &lt;access&gt; ](contents/main-lectures/GE1-NRTL-graphically.ipynb) // [ &lt;preview&gt; ](contents/main-lectures/GA-GE1.png)\n",
    "        * GE2 - Linear algebra based implementation of the NRTL model -- (enUS, Python 3):: [ &lt;access&gt; ](contents/main-lectures/GE2-NRTL-linearAlgebra.ipynb) // [ &lt;preview&gt; ](contents/main-lectures/GA-GE2.png)\n",
    "        * GE3 - Azeotropy in Vapor-Liquid phase equilibrium -- (enUS, Python 3):: [ &lt;access&gt; ](contents/main-lectures/GE3-VLE-azeotropy.ipynb) // [ &lt;preview&gt; ](contents/main-lectures/GA-GE3.png)\n",
    "        * GE4 - Liquid-Liquid phase equilibrium flash algorithm -- (enUS, Python 3):: [ &lt;access&gt; ](contents/main-lectures/GE4-LLE-flash.ipynb) // [ &lt;preview&gt; ](contents/main-lectures/GA-GE4.png)\n",
    "        * GE5 - SciPy optmization toolbox based implementation of the LLE flash  -- (enUS, Python 3):: [ &lt;access&gt; ](contents/main-lectures/GE5-LLE-flash-scipy.ipynb) // [ &lt;preview&gt; ](contents/main-lectures/GA-GE5.png)\n",
    "        * GE6 - Analysis of convergence of LLE flash at weak-spots of the current algorithm/initial-guess pair -- (enUS, Python 3):: [ &lt;access&gt; ](contents/main-lectures/GE6-LLE-flash-convergenceAnalysis.ipynb) // [ &lt;preview&gt; ](contents/main-lectures/GA-GE6.png)\n",
    "    * ADS series - lectures on thermodynamics of adsorption\n",
    "        * ADS1 - Calculation of adsorption for pure fluids by Equation of State -- (enUS, Python 3):: [ &lt;access&gt; ](contents/featured-assignments/TPQB-UFRJ-2016.3/Mariana-Amorim-de-Almeida/AdsorptionEoS.ipynb) // [ &lt;preview&gt; ](contents/featured-assignments/TPQB-UFRJ-2016.3/Mariana-Amorim-de-Almeida/GA.png)"
   ]
  },
  {
   "cell_type": "markdown",
   "metadata": {},
   "source": [
    "* **FEATURED ASSIGNMENTS -- From undergraduate and graduate students**\n",
    "    * TPQB &lt; UFRJ, 2016.3 -- (ptBR/enUS, Python 3):: [ &lt;access&gt; ](contents/featured-assignments/TPQB-UFRJ-2016.3)"
   ]
  },
  {
   "cell_type": "markdown",
   "metadata": {},
   "source": [
    "* **TEXTS LIBRARY -- Supplementary text material**\n",
    "\n",
    "    * Abreu, C. R. A., Matrix Algebra and Matrix Differentiation Rules Applied to Excess Gibbs Energy Models -- (enUS, pdf ) :: [ &lt;access&gt; ](contents/texts-library/AbreuC.R.A., Matrix Algebra and Matrix Differentiation Rules Applied to Excess Gibbs Energy Models.pdf)\n",
    "\n",
    "    * Abreu, C. R. A., 2010, COBEQ - Aplicação de álgebra E CÁLCULO MATRICIAIS À PREDIÇÃO DE EQUILÍBRIO LÍQUIDO-LÍQUIDO COM O MODELO COSMO-SAC -- (ptBR, pdf ) :: [ &lt;access&gt; ](contents/texts-library/Abreu, C. R. A., 2010, COBEQ - Aplicação de álgebra ... COSMO-SAC.pdf)"
   ]
  }
 ],
 "metadata": {
  "anaconda-cloud": {},
  "kernelspec": {
   "display_name": "Python [conda root]",
   "language": "python",
   "name": "conda-root-py"
  },
  "language_info": {
   "codemirror_mode": {
    "name": "ipython",
    "version": 3
   },
   "file_extension": ".py",
   "mimetype": "text/x-python",
   "name": "python",
   "nbconvert_exporter": "python",
   "pygments_lexer": "ipython3",
   "version": "3.5.2"
  }
 },
 "nbformat": 4,
 "nbformat_minor": 0
}

